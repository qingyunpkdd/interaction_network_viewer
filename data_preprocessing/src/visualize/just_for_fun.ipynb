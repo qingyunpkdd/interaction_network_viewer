{
 "nbformat": 4,
 "nbformat_minor": 2,
 "metadata": {
  "language_info": {
   "name": "python",
   "codemirror_mode": {
    "name": "ipython",
    "version": 3
   },
   "version": "3.7.4"
  },
  "orig_nbformat": 2,
  "file_extension": ".py",
  "mimetype": "text/x-python",
  "name": "python",
  "npconvert_exporter": "python",
  "pygments_lexer": "ipython3",
  "version": 3
 },
 "cells": [
  {
   "cell_type": "code",
   "execution_count": 5,
   "metadata": {},
   "outputs": [],
   "source": [
    "import pandas as pd\n",
    "import numpy as np"
   ]
  },
  {
   "cell_type": "code",
   "execution_count": 3,
   "metadata": {},
   "outputs": [
    {
     "name": "stdout",
     "output_type": "stream",
     "text": "['123', '13']\n"
    }
   ],
   "source": [
    "a = ['123','13']\n",
    "print(a)"
   ]
  },
  {
   "cell_type": "code",
   "execution_count": 6,
   "metadata": {},
   "outputs": [
    {
     "data": {
      "text/plain": "0    1.0\n1    3.0\n2    5.0\n3    NaN\n4    6.0\n5    8.0\ndtype: float64"
     },
     "execution_count": 6,
     "metadata": {},
     "output_type": "execute_result"
    }
   ],
   "source": [
    "s = pd.Series([1,3,5,np.nan, 6, 8])\n",
    "s"
   ]
  },
  {
   "cell_type": "code",
   "execution_count": 8,
   "metadata": {},
   "outputs": [
    {
     "name": "stdout",
     "output_type": "stream",
     "text": "DatetimeIndex(['2013-01-01', '2013-01-02', '2013-01-03', '2013-01-04',\n               '2013-01-05', '2013-01-06'],\n              dtype='datetime64[ns]', freq='D')\n"
    }
   ],
   "source": [
    "dates = pd.date_range('20130101',periods=6)\n",
    "print(dates)"
   ]
  },
  {
   "cell_type": "code",
   "execution_count": 9,
   "metadata": {},
   "outputs": [
    {
     "data": {
      "text/html": "<div>\n<style scoped>\n    .dataframe tbody tr th:only-of-type {\n        vertical-align: middle;\n    }\n\n    .dataframe tbody tr th {\n        vertical-align: top;\n    }\n\n    .dataframe thead th {\n        text-align: right;\n    }\n</style>\n<table border=\"1\" class=\"dataframe\">\n  <thead>\n    <tr style=\"text-align: right;\">\n      <th></th>\n      <th>A</th>\n      <th>B</th>\n      <th>C</th>\n      <th>D</th>\n    </tr>\n  </thead>\n  <tbody>\n    <tr>\n      <td>2013-01-01</td>\n      <td>-0.322527</td>\n      <td>-0.356865</td>\n      <td>0.077292</td>\n      <td>0.573976</td>\n    </tr>\n    <tr>\n      <td>2013-01-02</td>\n      <td>0.579420</td>\n      <td>-0.692963</td>\n      <td>0.213533</td>\n      <td>-1.063321</td>\n    </tr>\n    <tr>\n      <td>2013-01-03</td>\n      <td>0.513025</td>\n      <td>-0.224954</td>\n      <td>0.096251</td>\n      <td>1.320180</td>\n    </tr>\n    <tr>\n      <td>2013-01-04</td>\n      <td>1.268429</td>\n      <td>0.099017</td>\n      <td>1.963978</td>\n      <td>-0.250238</td>\n    </tr>\n    <tr>\n      <td>2013-01-05</td>\n      <td>0.543832</td>\n      <td>0.637884</td>\n      <td>-0.473648</td>\n      <td>-1.435384</td>\n    </tr>\n    <tr>\n      <td>2013-01-06</td>\n      <td>0.023070</td>\n      <td>-0.673789</td>\n      <td>0.379433</td>\n      <td>-0.289404</td>\n    </tr>\n  </tbody>\n</table>\n</div>",
      "text/plain": "                   A         B         C         D\n2013-01-01 -0.322527 -0.356865  0.077292  0.573976\n2013-01-02  0.579420 -0.692963  0.213533 -1.063321\n2013-01-03  0.513025 -0.224954  0.096251  1.320180\n2013-01-04  1.268429  0.099017  1.963978 -0.250238\n2013-01-05  0.543832  0.637884 -0.473648 -1.435384\n2013-01-06  0.023070 -0.673789  0.379433 -0.289404"
     },
     "execution_count": 9,
     "metadata": {},
     "output_type": "execute_result"
    }
   ],
   "source": [
    "df = pd.DataFrame(np.random.randn(6, 4), index=dates, columns=list('ABCD'))\n",
    "df"
   ]
  },
  {
   "cell_type": "code",
   "execution_count": 9,
   "metadata": {},
   "outputs": [
    {
     "data": {
      "text/plain": "dtype('float64')"
     },
     "execution_count": 9,
     "metadata": {},
     "output_type": "execute_result"
    }
   ],
   "source": [
    "df['A'].dtypes"
   ]
  },
  {
   "cell_type": "code",
   "execution_count": 12,
   "metadata": {},
   "outputs": [
    {
     "data": {
      "text/html": "<div>\n<style scoped>\n    .dataframe tbody tr th:only-of-type {\n        vertical-align: middle;\n    }\n\n    .dataframe tbody tr th {\n        vertical-align: top;\n    }\n\n    .dataframe thead th {\n        text-align: right;\n    }\n</style>\n<table border=\"1\" class=\"dataframe\">\n  <thead>\n    <tr style=\"text-align: right;\">\n      <th></th>\n      <th>A</th>\n      <th>B</th>\n      <th>C</th>\n      <th>D</th>\n    </tr>\n  </thead>\n  <tbody>\n    <tr>\n      <td>2013-01-01</td>\n      <td>0.492550</td>\n      <td>-1.065911</td>\n      <td>0.096302</td>\n      <td>0.579912</td>\n    </tr>\n    <tr>\n      <td>2013-01-02</td>\n      <td>-0.384204</td>\n      <td>-0.670962</td>\n      <td>0.183269</td>\n      <td>-0.732096</td>\n    </tr>\n    <tr>\n      <td>2013-01-03</td>\n      <td>0.096629</td>\n      <td>0.443976</td>\n      <td>0.113967</td>\n      <td>1.290795</td>\n    </tr>\n  </tbody>\n</table>\n</div>",
      "text/plain": "                   A         B         C         D\n2013-01-01  0.492550 -1.065911  0.096302  0.579912\n2013-01-02 -0.384204 -0.670962  0.183269 -0.732096\n2013-01-03  0.096629  0.443976  0.113967  1.290795"
     },
     "execution_count": 12,
     "metadata": {},
     "output_type": "execute_result"
    }
   ],
   "source": [
    "df.head(3)"
   ]
  },
  {
   "cell_type": "code",
   "execution_count": 13,
   "metadata": {},
   "outputs": [
    {
     "data": {
      "text/plain": "DatetimeIndex(['2013-01-01', '2013-01-02', '2013-01-03', '2013-01-04',\n               '2013-01-05', '2013-01-06'],\n              dtype='datetime64[ns]', freq='D')"
     },
     "execution_count": 13,
     "metadata": {},
     "output_type": "execute_result"
    }
   ],
   "source": [
    "df.index"
   ]
  },
  {
   "cell_type": "code",
   "execution_count": 14,
   "metadata": {},
   "outputs": [
    {
     "data": {
      "text/plain": "array([[ 0.49255011, -1.06591067,  0.09630216,  0.57991217],\n       [-0.38420424, -0.67096151,  0.18326901, -0.73209624],\n       [ 0.09662926,  0.44397638,  0.11396736,  1.29079512],\n       [-0.00527983,  0.35919083, -0.96649881, -1.03696131],\n       [ 0.15903965,  0.20412024,  0.24354049, -0.19493006],\n       [-0.06323959, -1.79924911,  0.25014424, -0.63391729]])"
     },
     "execution_count": 14,
     "metadata": {},
     "output_type": "execute_result"
    }
   ],
   "source": [
    "df.to_numpy()"
   ]
  },
  {
   "cell_type": "code",
   "execution_count": 15,
   "metadata": {},
   "outputs": [
    {
     "data": {
      "text/html": "<div>\n<style scoped>\n    .dataframe tbody tr th:only-of-type {\n        vertical-align: middle;\n    }\n\n    .dataframe tbody tr th {\n        vertical-align: top;\n    }\n\n    .dataframe thead th {\n        text-align: right;\n    }\n</style>\n<table border=\"1\" class=\"dataframe\">\n  <thead>\n    <tr style=\"text-align: right;\">\n      <th></th>\n      <th>A</th>\n      <th>B</th>\n      <th>C</th>\n      <th>D</th>\n    </tr>\n  </thead>\n  <tbody>\n    <tr>\n      <td>count</td>\n      <td>6.000000</td>\n      <td>6.000000</td>\n      <td>6.000000</td>\n      <td>6.000000</td>\n    </tr>\n    <tr>\n      <td>mean</td>\n      <td>0.049249</td>\n      <td>-0.421472</td>\n      <td>-0.013213</td>\n      <td>-0.121200</td>\n    </tr>\n    <tr>\n      <td>std</td>\n      <td>0.287862</td>\n      <td>0.908363</td>\n      <td>0.471340</td>\n      <td>0.890552</td>\n    </tr>\n    <tr>\n      <td>min</td>\n      <td>-0.384204</td>\n      <td>-1.799249</td>\n      <td>-0.966499</td>\n      <td>-1.036961</td>\n    </tr>\n    <tr>\n      <td>25%</td>\n      <td>-0.048750</td>\n      <td>-0.967173</td>\n      <td>0.100718</td>\n      <td>-0.707552</td>\n    </tr>\n    <tr>\n      <td>50%</td>\n      <td>0.045675</td>\n      <td>-0.233421</td>\n      <td>0.148618</td>\n      <td>-0.414424</td>\n    </tr>\n    <tr>\n      <td>75%</td>\n      <td>0.143437</td>\n      <td>0.320423</td>\n      <td>0.228473</td>\n      <td>0.386202</td>\n    </tr>\n    <tr>\n      <td>max</td>\n      <td>0.492550</td>\n      <td>0.443976</td>\n      <td>0.250144</td>\n      <td>1.290795</td>\n    </tr>\n  </tbody>\n</table>\n</div>",
      "text/plain": "              A         B         C         D\ncount  6.000000  6.000000  6.000000  6.000000\nmean   0.049249 -0.421472 -0.013213 -0.121200\nstd    0.287862  0.908363  0.471340  0.890552\nmin   -0.384204 -1.799249 -0.966499 -1.036961\n25%   -0.048750 -0.967173  0.100718 -0.707552\n50%    0.045675 -0.233421  0.148618 -0.414424\n75%    0.143437  0.320423  0.228473  0.386202\nmax    0.492550  0.443976  0.250144  1.290795"
     },
     "execution_count": 15,
     "metadata": {},
     "output_type": "execute_result"
    }
   ],
   "source": [
    "df.describe()"
   ]
  },
  {
   "cell_type": "code",
   "execution_count": 16,
   "metadata": {},
   "outputs": [
    {
     "data": {
      "text/html": "<div>\n<style scoped>\n    .dataframe tbody tr th:only-of-type {\n        vertical-align: middle;\n    }\n\n    .dataframe tbody tr th {\n        vertical-align: top;\n    }\n\n    .dataframe thead th {\n        text-align: right;\n    }\n</style>\n<table border=\"1\" class=\"dataframe\">\n  <thead>\n    <tr style=\"text-align: right;\">\n      <th></th>\n      <th>2013-01-01</th>\n      <th>2013-01-02</th>\n      <th>2013-01-03</th>\n      <th>2013-01-04</th>\n      <th>2013-01-05</th>\n      <th>2013-01-06</th>\n    </tr>\n  </thead>\n  <tbody>\n    <tr>\n      <td>A</td>\n      <td>0.492550</td>\n      <td>-0.384204</td>\n      <td>0.096629</td>\n      <td>-0.005280</td>\n      <td>0.15904</td>\n      <td>-0.063240</td>\n    </tr>\n    <tr>\n      <td>B</td>\n      <td>-1.065911</td>\n      <td>-0.670962</td>\n      <td>0.443976</td>\n      <td>0.359191</td>\n      <td>0.20412</td>\n      <td>-1.799249</td>\n    </tr>\n    <tr>\n      <td>C</td>\n      <td>0.096302</td>\n      <td>0.183269</td>\n      <td>0.113967</td>\n      <td>-0.966499</td>\n      <td>0.24354</td>\n      <td>0.250144</td>\n    </tr>\n    <tr>\n      <td>D</td>\n      <td>0.579912</td>\n      <td>-0.732096</td>\n      <td>1.290795</td>\n      <td>-1.036961</td>\n      <td>-0.19493</td>\n      <td>-0.633917</td>\n    </tr>\n  </tbody>\n</table>\n</div>",
      "text/plain": "   2013-01-01  2013-01-02  2013-01-03  2013-01-04  2013-01-05  2013-01-06\nA    0.492550   -0.384204    0.096629   -0.005280     0.15904   -0.063240\nB   -1.065911   -0.670962    0.443976    0.359191     0.20412   -1.799249\nC    0.096302    0.183269    0.113967   -0.966499     0.24354    0.250144\nD    0.579912   -0.732096    1.290795   -1.036961    -0.19493   -0.633917"
     },
     "execution_count": 16,
     "metadata": {},
     "output_type": "execute_result"
    }
   ],
   "source": [
    "df.T"
   ]
  },
  {
   "cell_type": "code",
   "execution_count": 18,
   "metadata": {},
   "outputs": [
    {
     "data": {
      "text/html": "<div>\n<style scoped>\n    .dataframe tbody tr th:only-of-type {\n        vertical-align: middle;\n    }\n\n    .dataframe tbody tr th {\n        vertical-align: top;\n    }\n\n    .dataframe thead th {\n        text-align: right;\n    }\n</style>\n<table border=\"1\" class=\"dataframe\">\n  <thead>\n    <tr style=\"text-align: right;\">\n      <th></th>\n      <th>A</th>\n      <th>B</th>\n    </tr>\n  </thead>\n  <tbody>\n    <tr>\n      <td>2013-01-01</td>\n      <td>0.492550</td>\n      <td>-1.065911</td>\n    </tr>\n    <tr>\n      <td>2013-01-02</td>\n      <td>-0.384204</td>\n      <td>-0.670962</td>\n    </tr>\n    <tr>\n      <td>2013-01-03</td>\n      <td>0.096629</td>\n      <td>0.443976</td>\n    </tr>\n    <tr>\n      <td>2013-01-04</td>\n      <td>-0.005280</td>\n      <td>0.359191</td>\n    </tr>\n    <tr>\n      <td>2013-01-05</td>\n      <td>0.159040</td>\n      <td>0.204120</td>\n    </tr>\n    <tr>\n      <td>2013-01-06</td>\n      <td>-0.063240</td>\n      <td>-1.799249</td>\n    </tr>\n  </tbody>\n</table>\n</div>",
      "text/plain": "                   A         B\n2013-01-01  0.492550 -1.065911\n2013-01-02 -0.384204 -0.670962\n2013-01-03  0.096629  0.443976\n2013-01-04 -0.005280  0.359191\n2013-01-05  0.159040  0.204120\n2013-01-06 -0.063240 -1.799249"
     },
     "execution_count": 18,
     "metadata": {},
     "output_type": "execute_result"
    }
   ],
   "source": [
    "df.loc[:,['A','B']]"
   ]
  },
  {
   "cell_type": "code",
   "execution_count": 20,
   "metadata": {},
   "outputs": [
    {
     "data": {
      "text/html": "<div>\n<style scoped>\n    .dataframe tbody tr th:only-of-type {\n        vertical-align: middle;\n    }\n\n    .dataframe tbody tr th {\n        vertical-align: top;\n    }\n\n    .dataframe thead th {\n        text-align: right;\n    }\n</style>\n<table border=\"1\" class=\"dataframe\">\n  <thead>\n    <tr style=\"text-align: right;\">\n      <th></th>\n      <th>A</th>\n      <th>B</th>\n      <th>C</th>\n      <th>D</th>\n    </tr>\n  </thead>\n  <tbody>\n    <tr>\n      <td>2013-01-01</td>\n      <td>0.492550</td>\n      <td>-1.065911</td>\n      <td>0.096302</td>\n      <td>0.579912</td>\n    </tr>\n    <tr>\n      <td>2013-01-03</td>\n      <td>0.096629</td>\n      <td>0.443976</td>\n      <td>0.113967</td>\n      <td>1.290795</td>\n    </tr>\n    <tr>\n      <td>2013-01-05</td>\n      <td>0.159040</td>\n      <td>0.204120</td>\n      <td>0.243540</td>\n      <td>-0.194930</td>\n    </tr>\n  </tbody>\n</table>\n</div>",
      "text/plain": "                   A         B         C         D\n2013-01-01  0.492550 -1.065911  0.096302  0.579912\n2013-01-03  0.096629  0.443976  0.113967  1.290795\n2013-01-05  0.159040  0.204120  0.243540 -0.194930"
     },
     "execution_count": 20,
     "metadata": {},
     "output_type": "execute_result"
    }
   ],
   "source": [
    "df[df['A'] > 0]"
   ]
  },
  {
   "cell_type": "code",
   "execution_count": 29,
   "metadata": {},
   "outputs": [
    {
     "data": {
      "text/html": "<div>\n<style scoped>\n    .dataframe tbody tr th:only-of-type {\n        vertical-align: middle;\n    }\n\n    .dataframe tbody tr th {\n        vertical-align: top;\n    }\n\n    .dataframe thead th {\n        text-align: right;\n    }\n</style>\n<table border=\"1\" class=\"dataframe\">\n  <thead>\n    <tr style=\"text-align: right;\">\n      <th></th>\n      <th>A</th>\n      <th>B</th>\n    </tr>\n  </thead>\n  <tbody>\n    <tr>\n      <td>2013-01-01</td>\n      <td>0.492550</td>\n      <td>-1.065911</td>\n    </tr>\n    <tr>\n      <td>2013-01-02</td>\n      <td>-0.384204</td>\n      <td>-0.670962</td>\n    </tr>\n    <tr>\n      <td>2013-01-03</td>\n      <td>0.096629</td>\n      <td>0.443976</td>\n    </tr>\n    <tr>\n      <td>2013-01-04</td>\n      <td>-0.005280</td>\n      <td>0.359191</td>\n    </tr>\n    <tr>\n      <td>2013-01-05</td>\n      <td>0.159040</td>\n      <td>0.204120</td>\n    </tr>\n    <tr>\n      <td>2013-01-06</td>\n      <td>-0.063240</td>\n      <td>-1.799249</td>\n    </tr>\n  </tbody>\n</table>\n</div>",
      "text/plain": "                   A         B\n2013-01-01  0.492550 -1.065911\n2013-01-02 -0.384204 -0.670962\n2013-01-03  0.096629  0.443976\n2013-01-04 -0.005280  0.359191\n2013-01-05  0.159040  0.204120\n2013-01-06 -0.063240 -1.799249"
     },
     "execution_count": 29,
     "metadata": {},
     "output_type": "execute_result"
    }
   ],
   "source": [
    "df.loc[:,df.columns.isin(['A','B'])]"
   ]
  },
  {
   "cell_type": "code",
   "execution_count": 30,
   "metadata": {},
   "outputs": [
    {
     "data": {
      "text/plain": "2013-01-01    False\n2013-01-02    False\n2013-01-03    False\n2013-01-04    False\n2013-01-05    False\n2013-01-06    False\nFreq: D, dtype: bool"
     },
     "execution_count": 30,
     "metadata": {},
     "output_type": "execute_result"
    }
   ],
   "source": [
    "df.duplicated('A')"
   ]
  },
  {
   "cell_type": "code",
   "execution_count": 31,
   "metadata": {},
   "outputs": [],
   "source": [
    "tem = {\"class\":[1,2,1,3,1,2]}"
   ]
  },
  {
   "cell_type": "code",
   "execution_count": 34,
   "metadata": {},
   "outputs": [],
   "source": [
    "df['class']=tem['class']"
   ]
  },
  {
   "cell_type": "code",
   "execution_count": 35,
   "metadata": {},
   "outputs": [
    {
     "data": {
      "text/html": "<div>\n<style scoped>\n    .dataframe tbody tr th:only-of-type {\n        vertical-align: middle;\n    }\n\n    .dataframe tbody tr th {\n        vertical-align: top;\n    }\n\n    .dataframe thead th {\n        text-align: right;\n    }\n</style>\n<table border=\"1\" class=\"dataframe\">\n  <thead>\n    <tr style=\"text-align: right;\">\n      <th></th>\n      <th>A</th>\n      <th>B</th>\n      <th>C</th>\n      <th>D</th>\n      <th>class</th>\n    </tr>\n  </thead>\n  <tbody>\n    <tr>\n      <td>2013-01-01</td>\n      <td>0.492550</td>\n      <td>-1.065911</td>\n      <td>0.096302</td>\n      <td>0.579912</td>\n      <td>1</td>\n    </tr>\n    <tr>\n      <td>2013-01-02</td>\n      <td>-0.384204</td>\n      <td>-0.670962</td>\n      <td>0.183269</td>\n      <td>-0.732096</td>\n      <td>2</td>\n    </tr>\n    <tr>\n      <td>2013-01-03</td>\n      <td>0.096629</td>\n      <td>0.443976</td>\n      <td>0.113967</td>\n      <td>1.290795</td>\n      <td>1</td>\n    </tr>\n    <tr>\n      <td>2013-01-04</td>\n      <td>-0.005280</td>\n      <td>0.359191</td>\n      <td>-0.966499</td>\n      <td>-1.036961</td>\n      <td>3</td>\n    </tr>\n    <tr>\n      <td>2013-01-05</td>\n      <td>0.159040</td>\n      <td>0.204120</td>\n      <td>0.243540</td>\n      <td>-0.194930</td>\n      <td>1</td>\n    </tr>\n    <tr>\n      <td>2013-01-06</td>\n      <td>-0.063240</td>\n      <td>-1.799249</td>\n      <td>0.250144</td>\n      <td>-0.633917</td>\n      <td>2</td>\n    </tr>\n  </tbody>\n</table>\n</div>",
      "text/plain": "                   A         B         C         D  class\n2013-01-01  0.492550 -1.065911  0.096302  0.579912      1\n2013-01-02 -0.384204 -0.670962  0.183269 -0.732096      2\n2013-01-03  0.096629  0.443976  0.113967  1.290795      1\n2013-01-04 -0.005280  0.359191 -0.966499 -1.036961      3\n2013-01-05  0.159040  0.204120  0.243540 -0.194930      1\n2013-01-06 -0.063240 -1.799249  0.250144 -0.633917      2"
     },
     "execution_count": 35,
     "metadata": {},
     "output_type": "execute_result"
    }
   ],
   "source": [
    "df"
   ]
  },
  {
   "cell_type": "code",
   "execution_count": 47,
   "metadata": {},
   "outputs": [
    {
     "name": "stdout",
     "output_type": "stream",
     "text": "A         B         C         D  class        ob\n2013-01-01  0.492550 -1.065911  0.096302  0.579912      1  0.748219\n2013-01-02 -0.384204 -0.670962  0.183269 -0.732096      2 -0.447444\n2013-01-03  0.096629  0.443976  0.113967  1.290795      1  0.748219\n2013-01-04 -0.005280  0.359191 -0.966499 -1.036961      3 -0.005280\n2013-01-05  0.159040  0.204120  0.243540 -0.194930      1  0.748219\n2013-01-06 -0.063240 -1.799249  0.250144 -0.633917      2 -0.447444\n   class        ob\n0      1  0.748219\n1      2 -0.447444\n2      3 -0.005280\n"
    }
   ],
   "source": [
    "tem = df.groupby('class')['A'].sum().rename('ob').reset_index()\n",
    "df1 = df.merge(tem, how='left')\n",
    "df1.index = df.index\n",
    "print(df1)\n",
    "print(tem)\n"
   ]
  },
  {
   "cell_type": "code",
   "execution_count": 50,
   "metadata": {},
   "outputs": [
    {
     "data": {
      "text/plain": "class\n1    0.748219\n2   -0.447444\n3   -0.005280\nName: ob, dtype: float64"
     },
     "execution_count": 50,
     "metadata": {},
     "output_type": "execute_result"
    }
   ],
   "source": [
    "df.groupby('class')['A'].sum().rename('ob')"
   ]
  },
  {
   "cell_type": "code",
   "execution_count": 53,
   "metadata": {},
   "outputs": [
    {
     "data": {
      "text/plain": "pandas.core.frame.DataFrame"
     },
     "execution_count": 53,
     "metadata": {},
     "output_type": "execute_result"
    }
   ],
   "source": [
    "type(df.groupby('class').sum())"
   ]
  },
  {
   "cell_type": "code",
   "execution_count": 57,
   "metadata": {},
   "outputs": [
    {
     "data": {
      "text/html": "<div>\n<style scoped>\n    .dataframe tbody tr th:only-of-type {\n        vertical-align: middle;\n    }\n\n    .dataframe tbody tr th {\n        vertical-align: top;\n    }\n\n    .dataframe thead th {\n        text-align: right;\n    }\n</style>\n<table border=\"1\" class=\"dataframe\">\n  <thead>\n    <tr style=\"text-align: right;\">\n      <th></th>\n      <th>A</th>\n      <th>B</th>\n    </tr>\n  </thead>\n  <tbody>\n    <tr>\n      <td>2013-01-01</td>\n      <td>0.492550</td>\n      <td>-0.065911</td>\n    </tr>\n    <tr>\n      <td>2013-01-02</td>\n      <td>0.384204</td>\n      <td>0.329038</td>\n    </tr>\n    <tr>\n      <td>2013-01-03</td>\n      <td>0.096629</td>\n      <td>1.443976</td>\n    </tr>\n    <tr>\n      <td>2013-01-04</td>\n      <td>0.005280</td>\n      <td>1.359191</td>\n    </tr>\n    <tr>\n      <td>2013-01-05</td>\n      <td>0.159040</td>\n      <td>1.204120</td>\n    </tr>\n    <tr>\n      <td>2013-01-06</td>\n      <td>0.063240</td>\n      <td>-0.799249</td>\n    </tr>\n  </tbody>\n</table>\n</div>",
      "text/plain": "                   A         B\n2013-01-01  0.492550 -0.065911\n2013-01-02  0.384204  0.329038\n2013-01-03  0.096629  1.443976\n2013-01-04  0.005280  1.359191\n2013-01-05  0.159040  1.204120\n2013-01-06  0.063240 -0.799249"
     },
     "execution_count": 57,
     "metadata": {},
     "output_type": "execute_result"
    }
   ],
   "source": [
    "df.transform({'A': np.abs, 'B': lambda x: x + 1})"
   ]
  },
  {
   "cell_type": "code",
   "execution_count": null,
   "metadata": {},
   "outputs": [],
   "source": []
  },
  {
   "cell_type": "code",
   "execution_count": 2,
   "metadata": {},
   "outputs": [
    {
     "name": "stdout",
     "output_type": "stream",
     "text": "3.141592653589793\n"
    }
   ],
   "source": [
    "import numpy as np\n",
    "print(np.pi)"
   ]
  }
 ]
}